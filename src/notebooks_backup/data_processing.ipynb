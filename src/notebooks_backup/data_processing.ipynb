{
 "cells": [
  {
   "cell_type": "code",
   "execution_count": 2,
   "id": "8182d182-0e23-4e9d-8a11-ca680bc3b805",
   "metadata": {},
   "outputs": [],
   "source": [
    "# src/data_processing.py\n",
    "\n",
    "import pandas as pd\n",
    "\n",
    "def extract_entities(document):\n",
    "    \"\"\"\n",
    "    Document AI tarafından işlenen belge nesnesindeki entity'leri çekip,\n",
    "    bir pandas DataFrame'ine dönüştürür.\n",
    "    \n",
    "    Parametre:\n",
    "      document: Document AI'den dönen işlenmiş belge nesnesi\n",
    "      \n",
    "    Dönüş:\n",
    "      df: Entity'leri içeren pandas DataFrame'i\n",
    "    \"\"\"\n",
    "    data = []\n",
    "    for entity in document.entities:\n",
    "        data.append({\n",
    "            \"Entity Türü\": entity.type_,\n",
    "            \"Metin\": entity.mention_text,\n",
    "            \"Güven Skoru\": entity.confidence\n",
    "        })\n",
    "    \n",
    "    # DataFrame oluşturma\n",
    "    df = pd.DataFrame(data)\n",
    "    return df\n",
    "\n",
    "def clean_entities(df):\n",
    "    \"\"\"\n",
    "    Basit veri temizleme işlemlerini gerçekleştirir.\n",
    "    Örneğin, boş değerlerin kontrolü veya metin üzerinde düzenlemeler yapabilirsiniz.\n",
    "    \n",
    "    Parametre:\n",
    "      df: Entity'leri içeren DataFrame\n",
    "      \n",
    "    Dönüş:\n",
    "      df_clean: Temizlenmiş DataFrame\n",
    "    \"\"\"\n",
    "    # Örnek: Güven skoru 0 olan satırları filtrele\n",
    "    df_clean = df[df[\"Güven Skoru\"] > 0]\n",
    "    # Metin sütununu strip ile temizleme (başındaki/sonundaki boşlukları kaldırma)\n",
    "    df_clean[\"Metin\"] = df_clean[\"Metin\"].str.strip()\n",
    "    return df_clean\n",
    "\n",
    "if __name__ == \"__main__\":\n",
    "    # Burada test amaçlı örnek bir document nesnesi ile çalışabilirsiniz.\n",
    "    # Örneğin, document_ai.py'den aldığınız işlenmiş belge nesnesini burada import edebilirsiniz:\n",
    "    #\n",
    "    # from document_ai import process_document\n",
    "    # document = process_document(\"notebooks/sample_invoice.pdf\", \"your-project-id\", \"eu\", \"your-processor-id\")\n",
    "    # df_entities = extract_entities(document)\n",
    "    # df_clean = clean_entities(df_entities)\n",
    "    # print(df_clean.head())\n",
    "    \n",
    "    pass\n"
   ]
  },
  {
   "cell_type": "code",
   "execution_count": null,
   "id": "e43118b3-6645-4420-8fed-1e75cbdb5015",
   "metadata": {},
   "outputs": [],
   "source": []
  }
 ],
 "metadata": {
  "kernelspec": {
   "display_name": "Python 3 (ipykernel)",
   "language": "python",
   "name": "python3"
  },
  "language_info": {
   "codemirror_mode": {
    "name": "ipython",
    "version": 3
   },
   "file_extension": ".py",
   "mimetype": "text/x-python",
   "name": "python",
   "nbconvert_exporter": "python",
   "pygments_lexer": "ipython3",
   "version": "3.10.16"
  }
 },
 "nbformat": 4,
 "nbformat_minor": 5
}
