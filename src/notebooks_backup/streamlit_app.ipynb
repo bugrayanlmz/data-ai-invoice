{
 "cells": [
  {
   "cell_type": "code",
   "execution_count": 8,
   "id": "11e77e87-00c1-4265-8610-db043798e0db",
   "metadata": {},
   "outputs": [
    {
     "ename": "ModuleNotFoundError",
     "evalue": "No module named 'src'",
     "output_type": "error",
     "traceback": [
      "\u001b[0;31m---------------------------------------------------------------------------\u001b[0m",
      "\u001b[0;31mModuleNotFoundError\u001b[0m                       Traceback (most recent call last)",
      "Cell \u001b[0;32mIn[8], line 7\u001b[0m\n\u001b[1;32m      5\u001b[0m \u001b[38;5;28;01mimport\u001b[39;00m \u001b[38;5;21;01mpandas\u001b[39;00m \u001b[38;5;28;01mas\u001b[39;00m \u001b[38;5;21;01mpd\u001b[39;00m\n\u001b[1;32m      6\u001b[0m \u001b[38;5;28;01mimport\u001b[39;00m \u001b[38;5;21;01mnbimporter\u001b[39;00m\n\u001b[0;32m----> 7\u001b[0m \u001b[38;5;28;01mfrom\u001b[39;00m \u001b[38;5;21;01msrc\u001b[39;00m\u001b[38;5;21;01m.\u001b[39;00m\u001b[38;5;21;01mdocument_ai\u001b[39;00m \u001b[38;5;28;01mimport\u001b[39;00m process_document\n\u001b[1;32m      8\u001b[0m \u001b[38;5;28;01mfrom\u001b[39;00m \u001b[38;5;21;01msrc\u001b[39;00m\u001b[38;5;21;01m.\u001b[39;00m\u001b[38;5;21;01mdata_processing\u001b[39;00m \u001b[38;5;28;01mimport\u001b[39;00m extract_entities, clean_entities\n\u001b[1;32m     10\u001b[0m \u001b[38;5;66;03m# Ortam değişkenini ayarla: Kimlik dosyanın yolu (gerekirse yolun doğru olduğundan emin ol)\u001b[39;00m\n",
      "\u001b[0;31mModuleNotFoundError\u001b[0m: No module named 'src'"
     ]
    }
   ],
   "source": [
    "# src/streamlit_app.py\n",
    "\n",
    "import os\n",
    "import streamlit as st\n",
    "import pandas as pd\n",
    "import nbimporter\n",
    "from document_ai import process_document\n",
    "from data_processing import extract_entities, clean_entities\n",
    "\n",
    "# Ortam değişkenini ayarla: Kimlik dosyanın yolu (gerekirse yolun doğru olduğundan emin ol)\n",
    "os.environ[\"GOOGLE_APPLICATION_CREDENTIALS\"] = \"/Users/bugrayanlmz/Desktop/data-ai-project/data-ai-invoice/credentials/data-ai-invoice-454117-86bae93a14c4.json\"\n",
    "\n",
    "# Streamlit arayüz başlığı\n",
    "st.title(\"Fatura/Makbuz Otomatik Veri Çıkarma ve Analizi\")\n",
    "\n",
    "# Kullanıcıdan dosya yüklemesini iste\n",
    "uploaded_file = st.file_uploader(\"Lütfen PDF dosyanızı yükleyin\", type=[\"pdf\"])\n",
    "\n",
    "# Google Cloud proje bilgilerini tanımla\n",
    "# Bu bilgileri kendi Google Cloud projenize göre güncelleyin\n",
    "project_id = \"data-ai-invoice-454117\"            # Örnek: \"my-gcp-project\"\n",
    "location = \"eu\"                           # İşlemcinizin oluşturulduğu bölge (örneğin, \"eu\" veya \"us\")\n",
    "processor_id = \"1e0be339e088cbdc\"        # Oluşturduğunuz Document AI işlemcisinin ID'si\n",
    "\n",
    "if uploaded_file is not None:\n",
    "    st.info(\"Dosya yüklendi. İşleniyor...\")\n",
    "    \n",
    "    # Dosya içeriğini oku (PDF dosyaları binary formatındadır)\n",
    "    file_content = uploaded_file.read()\n",
    "    \n",
    "    try:\n",
    "        # Document AI ile belgeyi işle\n",
    "        document = process_document(file_content, project_id, location, processor_id)\n",
    "        \n",
    "        # Document AI tarafından işlenen verileri DataFrame'e aktar\n",
    "        df_entities = extract_entities(document)\n",
    "        df_clean = clean_entities(df_entities)\n",
    "        \n",
    "        st.success(\"Belge başarıyla işlendi!\")\n",
    "        \n",
    "        # DataFrame’i tabloda göster\n",
    "        st.write(\"Çıkarılan Entity'ler:\")\n",
    "        st.dataframe(df_clean)\n",
    "        \n",
    "        # İsteğe bağlı: Entity'lerin dağılımını görselleştirme (örneğin, entity türlerine göre)\n",
    "        if not df_clean.empty:\n",
    "            st.write(\"Entity Türlerine Göre Dağılım:\")\n",
    "            entity_counts = df_clean[\"Entity Türü\"].value_counts().reset_index()\n",
    "            entity_counts.columns = [\"Entity Türü\", \"Sayı\"]\n",
    "            st.bar_chart(entity_counts.set_index(\"Entity Türü\"))\n",
    "            \n",
    "    except Exception as e:\n",
    "        st.error(f\"Bir hata oluştu: {e}\")\n"
   ]
  },
  {
   "cell_type": "code",
   "execution_count": null,
   "id": "79914d65-9a28-484e-9fe3-7c25b457f8b3",
   "metadata": {},
   "outputs": [],
   "source": []
  }
 ],
 "metadata": {
  "kernelspec": {
   "display_name": "Python 3 (ipykernel)",
   "language": "python",
   "name": "python3"
  },
  "language_info": {
   "codemirror_mode": {
    "name": "ipython",
    "version": 3
   },
   "file_extension": ".py",
   "mimetype": "text/x-python",
   "name": "python",
   "nbconvert_exporter": "python",
   "pygments_lexer": "ipython3",
   "version": "3.10.16"
  }
 },
 "nbformat": 4,
 "nbformat_minor": 5
}
